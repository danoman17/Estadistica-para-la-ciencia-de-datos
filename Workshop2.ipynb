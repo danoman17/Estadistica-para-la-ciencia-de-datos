{
  "nbformat": 4,
  "nbformat_minor": 0,
  "metadata": {
    "colab": {
      "name": "Workshop2.ipynb",
      "provenance": []
    },
    "kernelspec": {
      "name": "python3",
      "display_name": "Python 3"
    },
    "language_info": {
      "name": "python"
    }
  },
  "cells": [
    {
      "cell_type": "markdown",
      "source": [
        "Workshop #2,\n",
        "Daniel Flores Rodríguez,\n",
        "Agoust 15, 2022"
      ],
      "metadata": {
        "id": "l2NLuCDZUkzu"
      }
    },
    {
      "cell_type": "code",
      "execution_count": 1,
      "metadata": {
        "colab": {
          "base_uri": "https://localhost:8080/"
        },
        "id": "6vKJP_3db4_9",
        "outputId": "a8481b47-ec18-4218-8911-524514da885c"
      },
      "outputs": [
        {
          "output_type": "stream",
          "name": "stdout",
          "text": [
            "Looking in indexes: https://pypi.org/simple, https://us-python.pkg.dev/colab-wheels/public/simple/\n",
            "Collecting symbulate\n",
            "  Downloading symbulate-0.5.7-py3-none-any.whl (44 kB)\n",
            "\u001b[K     |████████████████████████████████| 44 kB 1.2 MB/s \n",
            "\u001b[?25hRequirement already satisfied: numpy in /usr/local/lib/python3.7/dist-packages (from symbulate) (1.21.6)\n",
            "Requirement already satisfied: scipy in /usr/local/lib/python3.7/dist-packages (from symbulate) (1.7.3)\n",
            "Requirement already satisfied: matplotlib in /usr/local/lib/python3.7/dist-packages (from symbulate) (3.2.2)\n",
            "Requirement already satisfied: python-dateutil>=2.1 in /usr/local/lib/python3.7/dist-packages (from matplotlib->symbulate) (2.8.2)\n",
            "Requirement already satisfied: cycler>=0.10 in /usr/local/lib/python3.7/dist-packages (from matplotlib->symbulate) (0.11.0)\n",
            "Requirement already satisfied: kiwisolver>=1.0.1 in /usr/local/lib/python3.7/dist-packages (from matplotlib->symbulate) (1.4.4)\n",
            "Requirement already satisfied: pyparsing!=2.0.4,!=2.1.2,!=2.1.6,>=2.0.1 in /usr/local/lib/python3.7/dist-packages (from matplotlib->symbulate) (3.0.9)\n",
            "Requirement already satisfied: typing-extensions in /usr/local/lib/python3.7/dist-packages (from kiwisolver>=1.0.1->matplotlib->symbulate) (4.1.1)\n",
            "Requirement already satisfied: six>=1.5 in /usr/local/lib/python3.7/dist-packages (from python-dateutil>=2.1->matplotlib->symbulate) (1.15.0)\n",
            "Installing collected packages: symbulate\n",
            "Successfully installed symbulate-0.5.7\n"
          ]
        }
      ],
      "source": [
        "!pip install symbulate"
      ]
    },
    {
      "cell_type": "code",
      "source": [
        "from symbulate import *\n",
        "#'exec(%matplotlib inline)' \n",
        "import matplotlib\n",
        "\n",
        "import matplotlib.pyplot as plt"
      ],
      "metadata": {
        "id": "6HULL_87gPZp"
      },
      "execution_count": 2,
      "outputs": []
    },
    {
      "cell_type": "code",
      "source": [
        "# clear the plot space:\n",
        "plt.clf()\n",
        "# Define the probability type of function as uniform (probability space)\n",
        "P = Uniform(0,40)\n",
        "# Define X as a random variable of the type P (uniform)\n",
        "X =RV(P)\n",
        "# Simulate the values of X and save the in the x array: \n",
        "x=X.sim(10000)\n",
        "x.plot()\n",
        "plt.show()"
      ],
      "metadata": {
        "colab": {
          "base_uri": "https://localhost:8080/",
          "height": 265
        },
        "id": "jsaUgfBggw90",
        "outputId": "4cf29b37-59d5-41f2-f643-9a21c04af7db"
      },
      "execution_count": 3,
      "outputs": [
        {
          "output_type": "display_data",
          "data": {
            "text/plain": [
              "<Figure size 432x288 with 1 Axes>"
            ],
            "image/png": "[encoded data removed]"
          },
          "metadata": {
            "needs_background": "light"
          }
        }
      ]
    },
    {
      "cell_type": "markdown",
      "source": [
        "# CHALLENGE\n",
        "*CALCULATE THE MEAN AND STANDARD DEVIATION OF THIS SIMULATED UNIFORM x VARIABLE. HOW CLOSE WERE THESE MEAN AND STANDARD DEVIATION FROM THE THEORETICAL MEAN AND STANDARD DEVIATION?*"
      ],
      "metadata": {
        "id": "v5_XEeYDhZBq"
      }
    },
    {
      "cell_type": "code",
      "source": [
        "print(x.mean())\n",
        "print(x.std())"
      ],
      "metadata": {
        "colab": {
          "base_uri": "https://localhost:8080/"
        },
        "id": "_2ht8pzqhn4J",
        "outputId": "8b8e7ba2-b339-4120-b0c4-c543886047dd"
      },
      "execution_count": 4,
      "outputs": [
        {
          "output_type": "stream",
          "name": "stdout",
          "text": [
            "20.008804797791424\n",
            "11.562542334056957\n"
          ]
        }
      ]
    },
    {
      "cell_type": "markdown",
      "source": [
        "**INTERPET THE ABOVE HISTOGRAM. WHAT DO YOU SEE? EXPLAIN WITH YOUR WORDS.**"
      ],
      "metadata": {
        "id": "Ksp3msSuh2Kr"
      }
    },
    {
      "cell_type": "markdown",
      "source": [
        "PODEMOS OBSERVAR QUE LA GRAFICA TIENE CIERTA ALEATORIEDAD A PARTIR DEL CALCULO DE LA DESVIACION. SI LO COMPARAMOS CON OTRAS GRAFICAS DE NUESTROS COMPAÑEROS, PODREMOS OBSERVAR UNA RESPUESTA SIMILAR DENTRO DEL MISMO RANGO, PERO CON VARIANTES EN CADA UNA DE LAS GRAFICAS."
      ],
      "metadata": {
        "id": "FpxQV6f8h5H6"
      }
    },
    {
      "cell_type": "code",
      "source": [
        "# Define the probability space as a vector of 25 uniform random numbers:\n",
        "P = Uniform(0,40) ** 25\n",
        "# Define XVECTOR as a vector of random variables with 25 random values \n",
        "XVECTOR =RV(P)\n",
        "# Simulate 10,000 vectors to get a matrix  \n",
        "xmatrix=XVECTOR.sim(10000)"
      ],
      "metadata": {
        "id": "AUcreH6Gh1TD"
      },
      "execution_count": 5,
      "outputs": []
    },
    {
      "cell_type": "code",
      "source": [
        "xmatrix"
      ],
      "metadata": {
        "colab": {
          "base_uri": "https://localhost:8080/",
          "height": 275
        },
        "id": "4jK7dO79kJae",
        "outputId": "c8c806a7-6cc1-4407-f398-e00fa381bbd9"
      },
      "execution_count": 6,
      "outputs": [
        {
          "output_type": "execute_result",
          "data": {
            "text/plain": [
              "Index Result\n",
              "0     (38.333088721665675, 31.45575734132506, 20.451141163373133, 29.90664529542461, 3.8886096086364486, ..., 0.6626671642993509)\n",
              "1     (20.962279676180632, 11.826415490374353, 38.186662822913775, 7.692943188624803, 21.12204520963372, ..., 36.849900394171584)\n",
              "2     (8.633332669809679, 13.11178574136048, 15.015530233189729, 36.25181724351967, 25.78245362717651, ..., 32.24264485132172)\n",
              "3     (25.453236852088917, 20.734396604630042, 30.017016515205647, 15.968546429199844, 33.08491311433918, ..., 21.441181305767728)\n",
              "4     (1.4707898736216451, 2.5660683235266646, 38.848338707356895, 33.78680664315381, 23.45142775036937, ..., 22.704523864552094)\n",
              "5     (25.736768789532643, 6.052139228569766, 4.023169704465994, 7.686252282442858, 16.803151087643037, ..., 17.796947130988098)\n",
              "6     (23.391651967072058, 31.5403362841296, 33.12474099200689, 23.58998994691165, 25.723483783403577, ..., 32.63741013401623)\n",
              "7     (10.572428532181286, 28.19209376875351, 6.931529216341841, 29.086887404646493, 38.18402037632963, ..., 21.482779587331017)\n",
              "8     (36.92205893529972, 37.76924662095056, 6.04279519052267, 12.79584546834486, 3.472328492518195, ..., 37.26298001729137)\n",
              "....  .........................................................................................................................\n",
              "9999  (3.328040937354948, 34.76062446424892, 36.672001387944114, 32.607677154039266, 31.62034833725287, ..., 4.518917457399549)"
            ],
            "text/html": [
              "\n",
              "    <table>\n",
              "      <thead>\n",
              "        <th width=\"10%\">Index</th>\n",
              "        <th width=\"90%\">Result</th>\n",
              "      </thead>\n",
              "      <tbody>\n",
              "        \n",
              "        <tr>\n",
              "          <td>0</td><td>(38.333088721665675, 31.45575734132506, 20.451141163373133, 29.90664529542461, 3.8886096086364486, ....</td>\n",
              "        </tr>\n",
              "        \n",
              "        <tr>\n",
              "          <td>1</td><td>(20.962279676180632, 11.826415490374353, 38.186662822913775, 7.692943188624803, 21.12204520963372, ....</td>\n",
              "        </tr>\n",
              "        \n",
              "        <tr>\n",
              "          <td>2</td><td>(8.633332669809679, 13.11178574136048, 15.015530233189729, 36.25181724351967, 25.78245362717651, ......</td>\n",
              "        </tr>\n",
              "        \n",
              "        <tr>\n",
              "          <td>3</td><td>(25.453236852088917, 20.734396604630042, 30.017016515205647, 15.968546429199844, 33.08491311433918, ...</td>\n",
              "        </tr>\n",
              "        \n",
              "        <tr>\n",
              "          <td>4</td><td>(1.4707898736216451, 2.5660683235266646, 38.848338707356895, 33.78680664315381, 23.45142775036937, ....</td>\n",
              "        </tr>\n",
              "        \n",
              "        <tr>\n",
              "          <td>5</td><td>(25.736768789532643, 6.052139228569766, 4.023169704465994, 7.686252282442858, 16.803151087643037, .....</td>\n",
              "        </tr>\n",
              "        \n",
              "        <tr>\n",
              "          <td>6</td><td>(23.391651967072058, 31.5403362841296, 33.12474099200689, 23.58998994691165, 25.723483783403577, ......</td>\n",
              "        </tr>\n",
              "        \n",
              "        <tr>\n",
              "          <td>7</td><td>(10.572428532181286, 28.19209376875351, 6.931529216341841, 29.086887404646493, 38.18402037632963, .....</td>\n",
              "        </tr>\n",
              "        \n",
              "        <tr>\n",
              "          <td>8</td><td>(36.92205893529972, 37.76924662095056, 6.04279519052267, 12.79584546834486, 3.472328492518195, ..., ...</td>\n",
              "        </tr>\n",
              "        <tr><td>...</td><td>...</td></tr>\n",
              "        <tr>\n",
              "          <td>9999</td><td>(3.328040937354948, 34.76062446424892, 36.672001387944114, 32.607677154039266, 31.62034833725287, .....</td>\n",
              "        </tr>\n",
              "        \n",
              "      </tbody>\n",
              "    </table>\n",
              "        "
            ]
          },
          "metadata": {},
          "execution_count": 6
        }
      ]
    },
    {
      "cell_type": "code",
      "source": [
        "# The 2nd parameter is the mathematical operation applied to each row of the random vector\n",
        "# Simulate 10,000 means of each random vector of 25 uniform distributed numbers: \n",
        "xmean = RV(P,mean).sim(10000)\n",
        "xmean"
      ],
      "metadata": {
        "colab": {
          "base_uri": "https://localhost:8080/",
          "height": 275
        },
        "id": "BEme4lpIkMeb",
        "outputId": "6c32a31f-cf9a-442a-baa3-65eae6130bf3"
      },
      "execution_count": 7,
      "outputs": [
        {
          "output_type": "execute_result",
          "data": {
            "text/plain": [
              "Index Result\n",
              "0     24.079434432381618\n",
              "1     20.257200916368713\n",
              "2     23.224042338956636\n",
              "3     22.83686599559045\n",
              "4     20.927271466823463\n",
              "5     19.857391664835315\n",
              "6     21.07122559181839\n",
              "7     21.436015956812213\n",
              "8     24.186510489382794\n",
              "....  .................\n",
              "9999  18.21043451201566"
            ],
            "text/html": [
              "\n",
              "    <table>\n",
              "      <thead>\n",
              "        <th width=\"10%\">Index</th>\n",
              "        <th width=\"90%\">Result</th>\n",
              "      </thead>\n",
              "      <tbody>\n",
              "        \n",
              "        <tr>\n",
              "          <td>0</td><td>24.079434432381618</td>\n",
              "        </tr>\n",
              "        \n",
              "        <tr>\n",
              "          <td>1</td><td>20.257200916368713</td>\n",
              "        </tr>\n",
              "        \n",
              "        <tr>\n",
              "          <td>2</td><td>23.224042338956636</td>\n",
              "        </tr>\n",
              "        \n",
              "        <tr>\n",
              "          <td>3</td><td>22.83686599559045</td>\n",
              "        </tr>\n",
              "        \n",
              "        <tr>\n",
              "          <td>4</td><td>20.927271466823463</td>\n",
              "        </tr>\n",
              "        \n",
              "        <tr>\n",
              "          <td>5</td><td>19.857391664835315</td>\n",
              "        </tr>\n",
              "        \n",
              "        <tr>\n",
              "          <td>6</td><td>21.07122559181839</td>\n",
              "        </tr>\n",
              "        \n",
              "        <tr>\n",
              "          <td>7</td><td>21.436015956812213</td>\n",
              "        </tr>\n",
              "        \n",
              "        <tr>\n",
              "          <td>8</td><td>24.186510489382794</td>\n",
              "        </tr>\n",
              "        <tr><td>...</td><td>...</td></tr>\n",
              "        <tr>\n",
              "          <td>9999</td><td>18.21043451201566</td>\n",
              "        </tr>\n",
              "        \n",
              "      </tbody>\n",
              "    </table>\n",
              "        "
            ]
          },
          "metadata": {},
          "execution_count": 7
        }
      ]
    },
    {
      "cell_type": "code",
      "source": [
        "plt.clf()\n",
        "xmean.plot()\n",
        "plt.show()"
      ],
      "metadata": {
        "colab": {
          "base_uri": "https://localhost:8080/",
          "height": 265
        },
        "id": "0apR2TOzkPBC",
        "outputId": "466f6e90-3b86-4452-b555-565bdbe34626"
      },
      "execution_count": 8,
      "outputs": [
        {
          "output_type": "display_data",
          "data": {
            "text/plain": [
              "<Figure size 432x288 with 1 Axes>"
            ],
            "image/png": "[encoded data removed]"
          },
          "metadata": {
            "needs_background": "light"
          }
        }
      ]
    },
    {
      "cell_type": "code",
      "source": [
        "print(xmean.mean())\n",
        "print(xmean.std())"
      ],
      "metadata": {
        "colab": {
          "base_uri": "https://localhost:8080/"
        },
        "id": "N48j34GFaGV8",
        "outputId": "84d763d2-6e49-4fe6-e6a1-192718122e53"
      },
      "execution_count": 9,
      "outputs": [
        {
          "output_type": "stream",
          "name": "stdout",
          "text": [
            "19.99958158815909\n",
            "2.2690974945011515\n"
          ]
        }
      ]
    },
    {
      "cell_type": "markdown",
      "source": [
        "**WHAT DO YOU SEE IN THE ABOVE HISTOGRAM? DOES THE HISTOGRAM OF SAMPLE MEANS OF UNIFORM RANDOM VARIABLE LOOK LIKE A UNIFORM DISTRIBUTED VARIABLE? DO YOU SEE A LOGIC? BRIEFLY EXPLAIN WHAT YOU THINK.**\n",
        "\n",
        "PODEMOS OBSERVAR QUE AL CALCULAR EL MEAN DEL XMEAN LA VARIABLE X Y Y SON BASTANTES PARECIDOS, CON UNA DIFERENCIA QUE POSIBLEMENTE PROVIENE POR LA ALETORIEDAD CALCULADA ANTERIORMENTE. PODEMOS VER EN EL CALUCLO DE LA STD UN GRAN CAMBIO EN LOS DATOS OBTENIDOS."
      ],
      "metadata": {
        "id": "6VeJxdHEaSdK"
      }
    },
    {
      "cell_type": "code",
      "source": [
        "plt.clf()\n",
        "xmean.plot()\n",
        "x.plot()\n",
        "plt.show()"
      ],
      "metadata": {
        "colab": {
          "base_uri": "https://localhost:8080/",
          "height": 265
        },
        "id": "rXB03A04oohR",
        "outputId": "e194e735-d293-4b4d-fcec-a7a6259855ef"
      },
      "execution_count": 10,
      "outputs": [
        {
          "output_type": "display_data",
          "data": {
            "text/plain": [
              "<Figure size 432x288 with 1 Axes>"
            ],
            "image/png": "[encoded data removed]"
          },
          "metadata": {
            "needs_background": "light"
          }
        }
      ]
    },
    {
      "cell_type": "code",
      "source": [
        "# clear the plot space:\n",
        "plt.clf()\n",
        "# Define the probability type of function as uniform (probability space)\n",
        "P = Normal(mean=20, sd=10)\n",
        "# Define Y as a random variable of the type P (normal)\n",
        "Y =RV(P)\n",
        "# Simulate 10,000 values of Y and save the in the x array: \n",
        "y=Y.sim(10000)\n",
        "y.plot()\n",
        "plt.show()"
      ],
      "metadata": {
        "colab": {
          "base_uri": "https://localhost:8080/",
          "height": 265
        },
        "id": "AcNVuPzQoqAc",
        "outputId": "c16c8528-cbad-414b-bd66-51647bd617a0"
      },
      "execution_count": 11,
      "outputs": [
        {
          "output_type": "display_data",
          "data": {
            "text/plain": [
              "<Figure size 432x288 with 1 Axes>"
            ],
            "image/png": "[encoded data removed]"
          },
          "metadata": {
            "needs_background": "light"
          }
        }
      ]
    },
    {
      "cell_type": "code",
      "source": [
        "print(y.mean())\n",
        "print(y.std())"
      ],
      "metadata": {
        "colab": {
          "base_uri": "https://localhost:8080/"
        },
        "id": "oWOhX7oanvzf",
        "outputId": "0149984b-697d-43c1-9efd-b7c9f829f0ca"
      },
      "execution_count": 14,
      "outputs": [
        {
          "output_type": "stream",
          "name": "stdout",
          "text": [
            "19.918729267168644\n",
            "9.965930540197455\n"
          ]
        }
      ]
    },
    {
      "cell_type": "code",
      "source": [
        "# Define the probability space P as a vector of 25 normal random numbers:\n",
        "P = Normal(mean=20, sd=10) ** 25\n",
        "# Define RANDOMVECTOR as a vector of 25 random variables in the Probability space P \n",
        "RANDOMVECTOR = RV(P)\n",
        "# Simulate 10,000 random vectors with this distribution and save the in ymatrix: \n",
        "ymatrix=RANDOMVECTOR.sim(10000)"
      ],
      "metadata": {
        "id": "QGtoPQtyqiQ5"
      },
      "execution_count": 15,
      "outputs": []
    },
    {
      "cell_type": "code",
      "source": [
        "ymatrix"
      ],
      "metadata": {
        "colab": {
          "base_uri": "https://localhost:8080/",
          "height": 275
        },
        "id": "N07GnOYVqj-i",
        "outputId": "3dd41bb7-161a-4d4d-a0e4-208a34e05c5f"
      },
      "execution_count": 16,
      "outputs": [
        {
          "output_type": "execute_result",
          "data": {
            "text/plain": [
              "Index Result\n",
              "0     (20.31125104701469, 28.981653577770885, 27.83027854549038, 0.7440211882866343, 27.0452533172931, ..., 10.229948108516089)\n",
              "1     (11.517174222840186, 27.88742670969952, 29.09388163679092, 4.574508668092081, 31.395453574877415, ..., 6.73359735585807)\n",
              "2     (26.77774148363788, 14.176195948884015, 37.419436220644194, 20.251773749964553, 18.139994747582218, ..., 11.51393330300848)\n",
              "3     (22.67903704272707, 32.444104917103616, 37.87654438324778, 16.24875514349506, 14.603220203404236, ..., 26.32062630614709)\n",
              "4     (20.985788395689497, 32.1526277743677, 9.924223330587285, 31.073254722583464, 20.674664911285234, ..., 13.487187380790367)\n",
              "5     (15.503876877726947, 34.76991026377863, 6.025031687502651, 28.263752759543408, 32.33937903548731, ..., 32.084462394141866)\n",
              "6     (20.415010465824384, 33.634719636727326, 12.415161012302452, 37.9541350884428, 13.401006842515233, ..., 37.125835856571825)\n",
              "7     (25.477087002089014, 18.02831640062133, 27.474944024789252, 33.794817015551956, 15.478102792206304, ..., 25.023676564019404)\n",
              "8     (32.635313327443676, 22.01004406045974, 20.45431688303576, 7.321908865447444, 21.3101956825547, ..., 26.784721610943905)\n",
              "....  ...........................................................................................................................\n",
              "9999  (18.731292730777078, 14.918421443073074, 15.552943228064457, 39.28097888973653, 19.776480272611654, ..., 40.70663715525071)"
            ],
            "text/html": [
              "\n",
              "    <table>\n",
              "      <thead>\n",
              "        <th width=\"10%\">Index</th>\n",
              "        <th width=\"90%\">Result</th>\n",
              "      </thead>\n",
              "      <tbody>\n",
              "        \n",
              "        <tr>\n",
              "          <td>0</td><td>(20.31125104701469, 28.981653577770885, 27.83027854549038, 0.7440211882866343, 27.0452533172931, ......</td>\n",
              "        </tr>\n",
              "        \n",
              "        <tr>\n",
              "          <td>1</td><td>(11.517174222840186, 27.88742670969952, 29.09388163679092, 4.574508668092081, 31.395453574877415, .....</td>\n",
              "        </tr>\n",
              "        \n",
              "        <tr>\n",
              "          <td>2</td><td>(26.77774148363788, 14.176195948884015, 37.419436220644194, 20.251773749964553, 18.139994747582218, ...</td>\n",
              "        </tr>\n",
              "        \n",
              "        <tr>\n",
              "          <td>3</td><td>(22.67903704272707, 32.444104917103616, 37.87654438324778, 16.24875514349506, 14.603220203404236, .....</td>\n",
              "        </tr>\n",
              "        \n",
              "        <tr>\n",
              "          <td>4</td><td>(20.985788395689497, 32.1526277743677, 9.924223330587285, 31.073254722583464, 20.674664911285234, .....</td>\n",
              "        </tr>\n",
              "        \n",
              "        <tr>\n",
              "          <td>5</td><td>(15.503876877726947, 34.76991026377863, 6.025031687502651, 28.263752759543408, 32.33937903548731, .....</td>\n",
              "        </tr>\n",
              "        \n",
              "        <tr>\n",
              "          <td>6</td><td>(20.415010465824384, 33.634719636727326, 12.415161012302452, 37.9541350884428, 13.401006842515233, ....</td>\n",
              "        </tr>\n",
              "        \n",
              "        <tr>\n",
              "          <td>7</td><td>(25.477087002089014, 18.02831640062133, 27.474944024789252, 33.794817015551956, 15.478102792206304, ...</td>\n",
              "        </tr>\n",
              "        \n",
              "        <tr>\n",
              "          <td>8</td><td>(32.635313327443676, 22.01004406045974, 20.45431688303576, 7.321908865447444, 21.3101956825547, ...,...</td>\n",
              "        </tr>\n",
              "        <tr><td>...</td><td>...</td></tr>\n",
              "        <tr>\n",
              "          <td>9999</td><td>(18.731292730777078, 14.918421443073074, 15.552943228064457, 39.28097888973653, 19.776480272611654, ...</td>\n",
              "        </tr>\n",
              "        \n",
              "      </tbody>\n",
              "    </table>\n",
              "        "
            ]
          },
          "metadata": {},
          "execution_count": 16
        }
      ]
    },
    {
      "cell_type": "code",
      "source": [
        "# The 2nd parameter is the mathematical operation applied to each row of the random vector\n",
        "# Simulate 10,000 means of each random vector of 25 uniform distributed numbers: \n",
        "ymean = RV(P,mean).sim(10000)\n",
        "ymean"
      ],
      "metadata": {
        "id": "H-o1T43kqlq1",
        "outputId": "9b8d9936-964a-4d34-9a15-a2b1829a1fd1",
        "colab": {
          "base_uri": "https://localhost:8080/",
          "height": 275
        }
      },
      "execution_count": 17,
      "outputs": [
        {
          "output_type": "execute_result",
          "data": {
            "text/plain": [
              "Index Result\n",
              "0     19.265270803169315\n",
              "1     18.394918370789117\n",
              "2     17.58289211464758\n",
              "3     19.342079772504004\n",
              "4     22.751064990607492\n",
              "5     18.519244060581592\n",
              "6     23.22882773055267\n",
              "7     17.904207289983084\n",
              "8     22.222932761495972\n",
              "....  ..................\n",
              "9999  19.854772024898647"
            ],
            "text/html": [
              "\n",
              "    <table>\n",
              "      <thead>\n",
              "        <th width=\"10%\">Index</th>\n",
              "        <th width=\"90%\">Result</th>\n",
              "      </thead>\n",
              "      <tbody>\n",
              "        \n",
              "        <tr>\n",
              "          <td>0</td><td>19.265270803169315</td>\n",
              "        </tr>\n",
              "        \n",
              "        <tr>\n",
              "          <td>1</td><td>18.394918370789117</td>\n",
              "        </tr>\n",
              "        \n",
              "        <tr>\n",
              "          <td>2</td><td>17.58289211464758</td>\n",
              "        </tr>\n",
              "        \n",
              "        <tr>\n",
              "          <td>3</td><td>19.342079772504004</td>\n",
              "        </tr>\n",
              "        \n",
              "        <tr>\n",
              "          <td>4</td><td>22.751064990607492</td>\n",
              "        </tr>\n",
              "        \n",
              "        <tr>\n",
              "          <td>5</td><td>18.519244060581592</td>\n",
              "        </tr>\n",
              "        \n",
              "        <tr>\n",
              "          <td>6</td><td>23.22882773055267</td>\n",
              "        </tr>\n",
              "        \n",
              "        <tr>\n",
              "          <td>7</td><td>17.904207289983084</td>\n",
              "        </tr>\n",
              "        \n",
              "        <tr>\n",
              "          <td>8</td><td>22.222932761495972</td>\n",
              "        </tr>\n",
              "        <tr><td>...</td><td>...</td></tr>\n",
              "        <tr>\n",
              "          <td>9999</td><td>19.854772024898647</td>\n",
              "        </tr>\n",
              "        \n",
              "      </tbody>\n",
              "    </table>\n",
              "        "
            ]
          },
          "metadata": {},
          "execution_count": 17
        }
      ]
    },
    {
      "cell_type": "code",
      "source": [
        "plt.clf()\n",
        "ymean.plot()\n",
        "plt.show()"
      ],
      "metadata": {
        "id": "D5DtFH0CqoeM",
        "outputId": "fa0be036-a7c2-4ecf-cda7-c49df6b13e9f",
        "colab": {
          "base_uri": "https://localhost:8080/",
          "height": 265
        }
      },
      "execution_count": 18,
      "outputs": [
        {
          "output_type": "display_data",
          "data": {
            "text/plain": [
              "<Figure size 432x288 with 1 Axes>"
            ],
            "image/png": "[encoded data removed]"
          },
          "metadata": {
            "needs_background": "light"
          }
        }
      ]
    },
    {
      "cell_type": "code",
      "source": [
        "print(xmean.mean())\n",
        "print(xmean.std())"
      ],
      "metadata": {
        "colab": {
          "base_uri": "https://localhost:8080/"
        },
        "id": "6Cg7Zw5XfgEi",
        "outputId": "89c0de60-b0c9-448e-8b1c-a4275b437680"
      },
      "execution_count": 12,
      "outputs": [
        {
          "output_type": "stream",
          "name": "stdout",
          "text": [
            "19.99958158815909\n",
            "2.2690974945011515\n"
          ]
        }
      ]
    },
    {
      "cell_type": "markdown",
      "source": [
        "**WHAT DO YOU SEE? INTERPRET THE HISTOGRAM WITH YOUR WORDS.**\n",
        "\n",
        "ES INTERESANTE VER QUE LOS RESULTADOS OBTENIDOS SON BASTANTE PARECIDOS A LOS DATOS OBTENIDOS DE XMEAN, EN LA DESVICION MEAN, MIENTRAS QUE VUELVE A VARIAR DE MANERA CONSIDERABLE EN LA DESVIACION ESTANDAR, DONDE COMO EN LOS ANTERIORES CASOS OBTENEMOS UN RESULTADO MENOR A LA OBTENIDA EN POR MEDIO DEL MEAN"
      ],
      "metadata": {
        "id": "Q2MTMv6VgJbE"
      }
    },
    {
      "cell_type": "code",
      "source": [
        "plt.clf()\n",
        "ymean.plot()\n",
        "y.plot()\n",
        "plt.show()"
      ],
      "metadata": {
        "colab": {
          "base_uri": "https://localhost:8080/",
          "height": 265
        },
        "id": "en6dEUv4h-Cn",
        "outputId": "aa49c9e4-c082-4180-f965-6471b4ae79eb"
      },
      "execution_count": 19,
      "outputs": [
        {
          "output_type": "display_data",
          "data": {
            "text/plain": [
              "<Figure size 432x288 with 1 Axes>"
            ],
            "image/png": "[encoded data removed]"
          },
          "metadata": {
            "needs_background": "light"
          }
        }
      ]
    },
    {
      "cell_type": "markdown",
      "source": [
        "**4.1 CHALLENGE**\n",
        "\n",
        "https://rpubs.com/cdorante/tc3006c_w2"
      ],
      "metadata": {
        "id": "HOKpIif9oHqP"
      }
    },
    {
      "cell_type": "code",
      "source": [
        "!pip install --upgrade pandas\n",
        "!pip install --upgrade pandas-datareader"
      ],
      "metadata": {
        "colab": {
          "base_uri": "https://localhost:8080/"
        },
        "id": "qB9npskuoJy7",
        "outputId": "4f8434df-91e7-44cb-ef7c-7d14e4413d37"
      },
      "execution_count": 20,
      "outputs": [
        {
          "output_type": "stream",
          "name": "stdout",
          "text": [
            "Looking in indexes: https://pypi.org/simple, https://us-python.pkg.dev/colab-wheels/public/simple/\n",
            "Requirement already satisfied: pandas in /usr/local/lib/python3.7/dist-packages (1.3.5)\n",
            "Requirement already satisfied: pytz>=2017.3 in /usr/local/lib/python3.7/dist-packages (from pandas) (2022.1)\n",
            "Requirement already satisfied: python-dateutil>=2.7.3 in /usr/local/lib/python3.7/dist-packages (from pandas) (2.8.2)\n",
            "Requirement already satisfied: numpy>=1.17.3 in /usr/local/lib/python3.7/dist-packages (from pandas) (1.21.6)\n",
            "Requirement already satisfied: six>=1.5 in /usr/local/lib/python3.7/dist-packages (from python-dateutil>=2.7.3->pandas) (1.15.0)\n",
            "Looking in indexes: https://pypi.org/simple, https://us-python.pkg.dev/colab-wheels/public/simple/\n",
            "Requirement already satisfied: pandas-datareader in /usr/local/lib/python3.7/dist-packages (0.9.0)\n",
            "Collecting pandas-datareader\n",
            "  Downloading pandas_datareader-0.10.0-py3-none-any.whl (109 kB)\n",
            "\u001b[K     |████████████████████████████████| 109 kB 8.0 MB/s \n",
            "\u001b[?25hRequirement already satisfied: lxml in /usr/local/lib/python3.7/dist-packages (from pandas-datareader) (4.9.1)\n",
            "Requirement already satisfied: requests>=2.19.0 in /usr/local/lib/python3.7/dist-packages (from pandas-datareader) (2.23.0)\n",
            "Requirement already satisfied: pandas>=0.23 in /usr/local/lib/python3.7/dist-packages (from pandas-datareader) (1.3.5)\n",
            "Requirement already satisfied: pytz>=2017.3 in /usr/local/lib/python3.7/dist-packages (from pandas>=0.23->pandas-datareader) (2022.1)\n",
            "Requirement already satisfied: numpy>=1.17.3 in /usr/local/lib/python3.7/dist-packages (from pandas>=0.23->pandas-datareader) (1.21.6)\n",
            "Requirement already satisfied: python-dateutil>=2.7.3 in /usr/local/lib/python3.7/dist-packages (from pandas>=0.23->pandas-datareader) (2.8.2)\n",
            "Requirement already satisfied: six>=1.5 in /usr/local/lib/python3.7/dist-packages (from python-dateutil>=2.7.3->pandas>=0.23->pandas-datareader) (1.15.0)\n",
            "Requirement already satisfied: urllib3!=1.25.0,!=1.25.1,<1.26,>=1.21.1 in /usr/local/lib/python3.7/dist-packages (from requests>=2.19.0->pandas-datareader) (1.24.3)\n",
            "Requirement already satisfied: idna<3,>=2.5 in /usr/local/lib/python3.7/dist-packages (from requests>=2.19.0->pandas-datareader) (2.10)\n",
            "Requirement already satisfied: chardet<4,>=3.0.2 in /usr/local/lib/python3.7/dist-packages (from requests>=2.19.0->pandas-datareader) (3.0.4)\n",
            "Requirement already satisfied: certifi>=2017.4.17 in /usr/local/lib/python3.7/dist-packages (from requests>=2.19.0->pandas-datareader) (2022.6.15)\n",
            "Installing collected packages: pandas-datareader\n",
            "  Attempting uninstall: pandas-datareader\n",
            "    Found existing installation: pandas-datareader 0.9.0\n",
            "    Uninstalling pandas-datareader-0.9.0:\n",
            "      Successfully uninstalled pandas-datareader-0.9.0\n",
            "Successfully installed pandas-datareader-0.10.0\n"
          ]
        }
      ]
    },
    {
      "cell_type": "code",
      "source": [
        "import pandas_datareader as pdr\n",
        "from matplotlib import pyplot\n",
        "import pandas as pd\n",
        "import math"
      ],
      "metadata": {
        "id": "-HZbYvMzoPv9"
      },
      "execution_count": 21,
      "outputs": []
    },
    {
      "cell_type": "code",
      "source": [
        "data = pdr.get_data_yahoo('MSFT', interval=\"m\")\n",
        "data.info()"
      ],
      "metadata": {
        "colab": {
          "base_uri": "https://localhost:8080/"
        },
        "id": "dSvp9OzfoUzG",
        "outputId": "3d1655d8-e762-4354-eeab-29e59c631832"
      },
      "execution_count": 22,
      "outputs": [
        {
          "output_type": "stream",
          "name": "stdout",
          "text": [
            "<class 'pandas.core.frame.DataFrame'>\n",
            "DatetimeIndex: 61 entries, 2017-09-01 to 2022-08-15\n",
            "Data columns (total 6 columns):\n",
            " #   Column     Non-Null Count  Dtype  \n",
            "---  ------     --------------  -----  \n",
            " 0   High       61 non-null     float64\n",
            " 1   Low        61 non-null     float64\n",
            " 2   Open       61 non-null     float64\n",
            " 3   Close      61 non-null     float64\n",
            " 4   Volume     61 non-null     float64\n",
            " 5   Adj Close  61 non-null     float64\n",
            "dtypes: float64(6)\n",
            "memory usage: 3.3 KB\n"
          ]
        }
      ]
    },
    {
      "cell_type": "code",
      "source": [
        "data[\"R\"] = (data[\"Close\"] / data[\"Close\"].shift(1)) - 1\n",
        "print(data[\"R\"])"
      ],
      "metadata": {
        "colab": {
          "base_uri": "https://localhost:8080/"
        },
        "id": "WRlSy_tloX2J",
        "outputId": "d58eabcb-3b41-4348-ccd1-713ab836432c"
      },
      "execution_count": 23,
      "outputs": [
        {
          "output_type": "stream",
          "name": "stdout",
          "text": [
            "Date\n",
            "2017-09-01         NaN\n",
            "2017-10-01    0.116660\n",
            "2017-11-01    0.011902\n",
            "2017-12-01    0.016277\n",
            "2018-01-01    0.110708\n",
            "                ...   \n",
            "2022-05-01   -0.020359\n",
            "2022-06-01   -0.055321\n",
            "2022-07-01    0.093097\n",
            "2022-08-01    0.039788\n",
            "2022-08-15    0.003631\n",
            "Name: R, Length: 61, dtype: float64\n"
          ]
        }
      ]
    },
    {
      "cell_type": "code",
      "source": [
        "print(\"The monthly average return of Bitcoin is \", data[\"R\"].mean())"
      ],
      "metadata": {
        "colab": {
          "base_uri": "https://localhost:8080/"
        },
        "id": "6hTWX9jXoc6W",
        "outputId": "dc35080d-e89b-43b4-a736-7f3d93779c8a"
      },
      "execution_count": 24,
      "outputs": [
        {
          "output_type": "stream",
          "name": "stdout",
          "text": [
            "The monthly average return of Bitcoin is  0.024738430956658234\n"
          ]
        }
      ]
    },
    {
      "cell_type": "code",
      "source": [
        "\n",
        "dmmy = data['R'][1:]\n",
        "\n",
        "prueba = dmmy[0:30]\n",
        "\n",
        "sampleMean = prueba.mean()\n",
        "\n",
        "sampleStd = prueba. std()\n",
        "\n",
        "meanMSFT = dmmy.mean()\n",
        "stdMSFT = dmmy. std()\n",
        "\n",
        "variable_study = meanMSFT\n",
        "\n",
        "standard_error = stdMSFT\n",
        "\n",
        "\n",
        "ha = 0.0\n",
        "size = sqrt(len(dmmy))\n",
        "\n",
        "for item in dmmy:\n",
        "  itr = (item/size)\n",
        "  ha = ha + itr\n",
        "\n",
        "H0 = stdMSFT\n",
        "print(\"std deviation: \", H0)\n",
        "print(\"std deviation of individuals of the sample\", ha)"
      ],
      "metadata": {
        "colab": {
          "base_uri": "https://localhost:8080/"
        },
        "id": "1qzICwusoiDy",
        "outputId": "9bbd2b9e-e500-4a48-ee3a-ed052e4f5592"
      },
      "execution_count": 26,
      "outputs": [
        {
          "output_type": "stream",
          "name": "stdout",
          "text": [
            "std deviation:  0.05862782665598497\n",
            "std deviation of individuals of the sample 0.19162306221287864\n"
          ]
        }
      ]
    },
    {
      "cell_type": "code",
      "source": [
        "tsatistic = (meanMSFT - sampleMean) / (sampleStd / sqrt(len(prueba)))\n",
        "print(tsatistic)\n",
        "\n",
        "ttest=(ha - H0) / standard_error\n",
        "print(ttest)"
      ],
      "metadata": {
        "colab": {
          "base_uri": "https://localhost:8080/"
        },
        "id": "Hfpa86UZqiz3",
        "outputId": "a5f99741-3b40-48bd-e83f-dbabbe4c088c"
      },
      "execution_count": 27,
      "outputs": [
        {
          "output_type": "stream",
          "name": "stdout",
          "text": [
            "-0.19640486084798395\n",
            "2.2684660705108532\n"
          ]
        }
      ]
    }
  ]
}