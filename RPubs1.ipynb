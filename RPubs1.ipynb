{
  "nbformat": 4,
  "nbformat_minor": 0,
  "metadata": {
    "colab": {
      "name": "RPubs1.ipynb",
      "provenance": [],
      "collapsed_sections": []
    },
    "kernelspec": {
      "name": "python3",
      "display_name": "Python 3"
    },
    "language_info": {
      "name": "python"
    }
  },
  "cells": [
    {
      "cell_type": "markdown",
      "source": [
        "Workshop #1,\n",
        "Daniel Flores Rodríguez,\n",
        "Agoust 10, 2022"
      ],
      "metadata": {
        "id": "gxncMcKrYN0i"
      }
    },
    {
      "cell_type": "code",
      "source": [
        "!pip install --upgrade pandas\n",
        "!pip install --upgrade pandas-datareader"
      ],
      "metadata": {
        "colab": {
          "base_uri": "https://localhost:8080/"
        },
        "id": "sNut4PpChfVk",
        "outputId": "49a7ea15-251d-4853-e27c-7cf033734392"
      },
      "execution_count": 1,
      "outputs": [
        {
          "output_type": "stream",
          "name": "stdout",
          "text": [
            "Looking in indexes: https://pypi.org/simple, https://us-python.pkg.dev/colab-wheels/public/simple/\n",
            "Requirement already satisfied: pandas in /usr/local/lib/python3.7/dist-packages (1.3.5)\n",
            "Requirement already satisfied: numpy>=1.17.3 in /usr/local/lib/python3.7/dist-packages (from pandas) (1.21.6)\n",
            "Requirement already satisfied: python-dateutil>=2.7.3 in /usr/local/lib/python3.7/dist-packages (from pandas) (2.8.2)\n",
            "Requirement already satisfied: pytz>=2017.3 in /usr/local/lib/python3.7/dist-packages (from pandas) (2022.1)\n",
            "Requirement already satisfied: six>=1.5 in /usr/local/lib/python3.7/dist-packages (from python-dateutil>=2.7.3->pandas) (1.15.0)\n",
            "Looking in indexes: https://pypi.org/simple, https://us-python.pkg.dev/colab-wheels/public/simple/\n",
            "Requirement already satisfied: pandas-datareader in /usr/local/lib/python3.7/dist-packages (0.9.0)\n",
            "Collecting pandas-datareader\n",
            "  Downloading pandas_datareader-0.10.0-py3-none-any.whl (109 kB)\n",
            "\u001b[K     |████████████████████████████████| 109 kB 6.0 MB/s \n",
            "\u001b[?25hRequirement already satisfied: requests>=2.19.0 in /usr/local/lib/python3.7/dist-packages (from pandas-datareader) (2.23.0)\n",
            "Requirement already satisfied: pandas>=0.23 in /usr/local/lib/python3.7/dist-packages (from pandas-datareader) (1.3.5)\n",
            "Requirement already satisfied: lxml in /usr/local/lib/python3.7/dist-packages (from pandas-datareader) (4.9.1)\n",
            "Requirement already satisfied: numpy>=1.17.3 in /usr/local/lib/python3.7/dist-packages (from pandas>=0.23->pandas-datareader) (1.21.6)\n",
            "Requirement already satisfied: python-dateutil>=2.7.3 in /usr/local/lib/python3.7/dist-packages (from pandas>=0.23->pandas-datareader) (2.8.2)\n",
            "Requirement already satisfied: pytz>=2017.3 in /usr/local/lib/python3.7/dist-packages (from pandas>=0.23->pandas-datareader) (2022.1)\n",
            "Requirement already satisfied: six>=1.5 in /usr/local/lib/python3.7/dist-packages (from python-dateutil>=2.7.3->pandas>=0.23->pandas-datareader) (1.15.0)\n",
            "Requirement already satisfied: certifi>=2017.4.17 in /usr/local/lib/python3.7/dist-packages (from requests>=2.19.0->pandas-datareader) (2022.6.15)\n",
            "Requirement already satisfied: chardet<4,>=3.0.2 in /usr/local/lib/python3.7/dist-packages (from requests>=2.19.0->pandas-datareader) (3.0.4)\n",
            "Requirement already satisfied: idna<3,>=2.5 in /usr/local/lib/python3.7/dist-packages (from requests>=2.19.0->pandas-datareader) (2.10)\n",
            "Requirement already satisfied: urllib3!=1.25.0,!=1.25.1,<1.26,>=1.21.1 in /usr/local/lib/python3.7/dist-packages (from requests>=2.19.0->pandas-datareader) (1.24.3)\n",
            "Installing collected packages: pandas-datareader\n",
            "  Attempting uninstall: pandas-datareader\n",
            "    Found existing installation: pandas-datareader 0.9.0\n",
            "    Uninstalling pandas-datareader-0.9.0:\n",
            "      Successfully uninstalled pandas-datareader-0.9.0\n",
            "Successfully installed pandas-datareader-0.10.0\n"
          ]
        }
      ]
    },
    {
      "cell_type": "code",
      "execution_count": 2,
      "metadata": {
        "id": "ptAIkQK8TlpM"
      },
      "outputs": [],
      "source": [
        "import numpy as np\n",
        "import pandas as pd\n",
        "import pandas_datareader as pdr"
      ]
    },
    {
      "cell_type": "code",
      "source": [
        "BTC = pdr.get_data_yahoo('BTC-USD', start=\"01/01/2017\", interval=\"d\")"
      ],
      "metadata": {
        "id": "Yazg8PgOhPPc"
      },
      "execution_count": 3,
      "outputs": []
    },
    {
      "cell_type": "code",
      "source": [
        "BTC"
      ],
      "metadata": {
        "colab": {
          "base_uri": "https://localhost:8080/",
          "height": 455
        },
        "id": "36YPMWvFitxS",
        "outputId": "9ede5d30-748c-4585-fabf-217a1ad0b1e1"
      },
      "execution_count": 4,
      "outputs": [
        {
          "output_type": "execute_result",
          "data": {
            "text/plain": [
              "                    High           Low          Open         Close  \\\n",
              "Date                                                                 \n",
              "2017-01-01   1003.080017    958.698975    963.658020    998.325012   \n",
              "2017-01-02   1031.390015    996.702026    998.617004   1021.750000   \n",
              "2017-01-03   1044.079956   1021.599976   1021.599976   1043.839966   \n",
              "2017-01-04   1159.420044   1044.400024   1044.400024   1154.729980   \n",
              "2017-01-05   1191.099976    910.416992   1156.729980   1013.380005   \n",
              "...                  ...           ...           ...           ...   \n",
              "2022-08-08  24203.689453  23176.546875  23179.527344  23809.486328   \n",
              "2022-08-09  23898.615234  22982.000000  23811.484375  23164.318359   \n",
              "2022-08-10  24127.414062  22771.519531  23162.898438  23947.642578   \n",
              "2022-08-11  24822.628906  23900.996094  23948.345703  23957.529297   \n",
              "2022-08-12  24078.126953  23680.998047  23966.562500  23797.154297   \n",
              "\n",
              "                 Volume     Adj Close  \n",
              "Date                                   \n",
              "2017-01-01    147775008    998.325012  \n",
              "2017-01-02    222184992   1021.750000  \n",
              "2017-01-03    185168000   1043.839966  \n",
              "2017-01-04    344945984   1154.729980  \n",
              "2017-01-05    510199008   1013.380005  \n",
              "...                 ...           ...  \n",
              "2022-08-08  28575544847  23809.486328  \n",
              "2022-08-09  23555719219  23164.318359  \n",
              "2022-08-10  32837431722  23947.642578  \n",
              "2022-08-11  37127036580  23957.529297  \n",
              "2022-08-12  31155279872  23797.154297  \n",
              "\n",
              "[2050 rows x 6 columns]"
            ],
            "text/html": [
              "\n",
              "  <div id=\"df-edf5daa1-af24-4a85-a4b8-d780b685b691\">\n",
              "    <div class=\"colab-df-container\">\n",
              "      <div>\n",
              "<style scoped>\n",
              "    .dataframe tbody tr th:only-of-type {\n",
              "        vertical-align: middle;\n",
              "    }\n",
              "\n",
              "    .dataframe tbody tr th {\n",
              "        vertical-align: top;\n",
              "    }\n",
              "\n",
              "    .dataframe thead th {\n",
              "        text-align: right;\n",
              "    }\n",
              "</style>\n",
              "<table border=\"1\" class=\"dataframe\">\n",
              "  <thead>\n",
              "    <tr style=\"text-align: right;\">\n",
              "      <th></th>\n",
              "      <th>High</th>\n",
              "      <th>Low</th>\n",
              "      <th>Open</th>\n",
              "      <th>Close</th>\n",
              "      <th>Volume</th>\n",
              "      <th>Adj Close</th>\n",
              "    </tr>\n",
              "    <tr>\n",
              "      <th>Date</th>\n",
              "      <th></th>\n",
              "      <th></th>\n",
              "      <th></th>\n",
              "      <th></th>\n",
              "      <th></th>\n",
              "      <th></th>\n",
              "    </tr>\n",
              "  </thead>\n",
              "  <tbody>\n",
              "    <tr>\n",
              "      <th>2017-01-01</th>\n",
              "      <td>1003.080017</td>\n",
              "      <td>958.698975</td>\n",
              "      <td>963.658020</td>\n",
              "      <td>998.325012</td>\n",
              "      <td>147775008</td>\n",
              "      <td>998.325012</td>\n",
              "    </tr>\n",
              "    <tr>\n",
              "      <th>2017-01-02</th>\n",
              "      <td>1031.390015</td>\n",
              "      <td>996.702026</td>\n",
              "      <td>998.617004</td>\n",
              "      <td>1021.750000</td>\n",
              "      <td>222184992</td>\n",
              "      <td>1021.750000</td>\n",
              "    </tr>\n",
              "    <tr>\n",
              "      <th>2017-01-03</th>\n",
              "      <td>1044.079956</td>\n",
              "      <td>1021.599976</td>\n",
              "      <td>1021.599976</td>\n",
              "      <td>1043.839966</td>\n",
              "      <td>185168000</td>\n",
              "      <td>1043.839966</td>\n",
              "    </tr>\n",
              "    <tr>\n",
              "      <th>2017-01-04</th>\n",
              "      <td>1159.420044</td>\n",
              "      <td>1044.400024</td>\n",
              "      <td>1044.400024</td>\n",
              "      <td>1154.729980</td>\n",
              "      <td>344945984</td>\n",
              "      <td>1154.729980</td>\n",
              "    </tr>\n",
              "    <tr>\n",
              "      <th>2017-01-05</th>\n",
              "      <td>1191.099976</td>\n",
              "      <td>910.416992</td>\n",
              "      <td>1156.729980</td>\n",
              "      <td>1013.380005</td>\n",
              "      <td>510199008</td>\n",
              "      <td>1013.380005</td>\n",
              "    </tr>\n",
              "    <tr>\n",
              "      <th>...</th>\n",
              "      <td>...</td>\n",
              "      <td>...</td>\n",
              "      <td>...</td>\n",
              "      <td>...</td>\n",
              "      <td>...</td>\n",
              "      <td>...</td>\n",
              "    </tr>\n",
              "    <tr>\n",
              "      <th>2022-08-08</th>\n",
              "      <td>24203.689453</td>\n",
              "      <td>23176.546875</td>\n",
              "      <td>23179.527344</td>\n",
              "      <td>23809.486328</td>\n",
              "      <td>28575544847</td>\n",
              "      <td>23809.486328</td>\n",
              "    </tr>\n",
              "    <tr>\n",
              "      <th>2022-08-09</th>\n",
              "      <td>23898.615234</td>\n",
              "      <td>22982.000000</td>\n",
              "      <td>23811.484375</td>\n",
              "      <td>23164.318359</td>\n",
              "      <td>23555719219</td>\n",
              "      <td>23164.318359</td>\n",
              "    </tr>\n",
              "    <tr>\n",
              "      <th>2022-08-10</th>\n",
              "      <td>24127.414062</td>\n",
              "      <td>22771.519531</td>\n",
              "      <td>23162.898438</td>\n",
              "      <td>23947.642578</td>\n",
              "      <td>32837431722</td>\n",
              "      <td>23947.642578</td>\n",
              "    </tr>\n",
              "    <tr>\n",
              "      <th>2022-08-11</th>\n",
              "      <td>24822.628906</td>\n",
              "      <td>23900.996094</td>\n",
              "      <td>23948.345703</td>\n",
              "      <td>23957.529297</td>\n",
              "      <td>37127036580</td>\n",
              "      <td>23957.529297</td>\n",
              "    </tr>\n",
              "    <tr>\n",
              "      <th>2022-08-12</th>\n",
              "      <td>24078.126953</td>\n",
              "      <td>23680.998047</td>\n",
              "      <td>23966.562500</td>\n",
              "      <td>23797.154297</td>\n",
              "      <td>31155279872</td>\n",
              "      <td>23797.154297</td>\n",
              "    </tr>\n",
              "  </tbody>\n",
              "</table>\n",
              "<p>2050 rows × 6 columns</p>\n",
              "</div>\n",
              "      <button class=\"colab-df-convert\" onclick=\"convertToInteractive('df-edf5daa1-af24-4a85-a4b8-d780b685b691')\"\n",
              "              title=\"Convert this dataframe to an interactive table.\"\n",
              "              style=\"display:none;\">\n",
              "        \n",
              "  <svg xmlns=\"http://www.w3.org/2000/svg\" height=\"24px\"viewBox=\"0 0 24 24\"\n",
              "       width=\"24px\">\n",
              "    <path d=\"M0 0h24v24H0V0z\" fill=\"none\"/>\n",
              "    <path d=\"M18.56 5.44l.94 2.06.94-2.06 2.06-.94-2.06-.94-.94-2.06-.94 2.06-2.06.94zm-11 1L8.5 8.5l.94-2.06 2.06-.94-2.06-.94L8.5 2.5l-.94 2.06-2.06.94zm10 10l.94 2.06.94-2.06 2.06-.94-2.06-.94-.94-2.06-.94 2.06-2.06.94z\"/><path d=\"M17.41 7.96l-1.37-1.37c-.4-.4-.92-.59-1.43-.59-.52 0-1.04.2-1.43.59L10.3 9.45l-7.72 7.72c-.78.78-.78 2.05 0 2.83L4 21.41c.39.39.9.59 1.41.59.51 0 1.02-.2 1.41-.59l7.78-7.78 2.81-2.81c.8-.78.8-2.07 0-2.86zM5.41 20L4 18.59l7.72-7.72 1.47 1.35L5.41 20z\"/>\n",
              "  </svg>\n",
              "      </button>\n",
              "      \n",
              "  <style>\n",
              "    .colab-df-container {\n",
              "      display:flex;\n",
              "      flex-wrap:wrap;\n",
              "      gap: 12px;\n",
              "    }\n",
              "\n",
              "    .colab-df-convert {\n",
              "      background-color: #E8F0FE;\n",
              "      border: none;\n",
              "      border-radius: 50%;\n",
              "      cursor: pointer;\n",
              "      display: none;\n",
              "      fill: #1967D2;\n",
              "      height: 32px;\n",
              "      padding: 0 0 0 0;\n",
              "      width: 32px;\n",
              "    }\n",
              "\n",
              "    .colab-df-convert:hover {\n",
              "      background-color: #E2EBFA;\n",
              "      box-shadow: 0px 1px 2px rgba(60, 64, 67, 0.3), 0px 1px 3px 1px rgba(60, 64, 67, 0.15);\n",
              "      fill: #174EA6;\n",
              "    }\n",
              "\n",
              "    [theme=dark] .colab-df-convert {\n",
              "      background-color: #3B4455;\n",
              "      fill: #D2E3FC;\n",
              "    }\n",
              "\n",
              "    [theme=dark] .colab-df-convert:hover {\n",
              "      background-color: #434B5C;\n",
              "      box-shadow: 0px 1px 3px 1px rgba(0, 0, 0, 0.15);\n",
              "      filter: drop-shadow(0px 1px 2px rgba(0, 0, 0, 0.3));\n",
              "      fill: #FFFFFF;\n",
              "    }\n",
              "  </style>\n",
              "\n",
              "      <script>\n",
              "        const buttonEl =\n",
              "          document.querySelector('#df-edf5daa1-af24-4a85-a4b8-d780b685b691 button.colab-df-convert');\n",
              "        buttonEl.style.display =\n",
              "          google.colab.kernel.accessAllowed ? 'block' : 'none';\n",
              "\n",
              "        async function convertToInteractive(key) {\n",
              "          const element = document.querySelector('#df-edf5daa1-af24-4a85-a4b8-d780b685b691');\n",
              "          const dataTable =\n",
              "            await google.colab.kernel.invokeFunction('convertToInteractive',\n",
              "                                                     [key], {});\n",
              "          if (!dataTable) return;\n",
              "\n",
              "          const docLinkHtml = 'Like what you see? Visit the ' +\n",
              "            '<a target=\"_blank\" href=https://colab.research.google.com/notebooks/data_table.ipynb>data table notebook</a>'\n",
              "            + ' to learn more about interactive tables.';\n",
              "          element.innerHTML = '';\n",
              "          dataTable['output_type'] = 'display_data';\n",
              "          await google.colab.output.renderOutput(dataTable, element);\n",
              "          const docLink = document.createElement('div');\n",
              "          docLink.innerHTML = docLinkHtml;\n",
              "          element.appendChild(docLink);\n",
              "        }\n",
              "      </script>\n",
              "    </div>\n",
              "  </div>\n",
              "  "
            ]
          },
          "metadata": {},
          "execution_count": 4
        }
      ]
    },
    {
      "cell_type": "code",
      "source": [
        "BTC.tail()"
      ],
      "metadata": {
        "colab": {
          "base_uri": "https://localhost:8080/",
          "height": 238
        },
        "id": "9RB2FD9XizCQ",
        "outputId": "97e31aba-df5b-4dfe-f6e4-dee90e41913e"
      },
      "execution_count": 5,
      "outputs": [
        {
          "output_type": "execute_result",
          "data": {
            "text/plain": [
              "                    High           Low          Open         Close  \\\n",
              "Date                                                                 \n",
              "2022-08-08  24203.689453  23176.546875  23179.527344  23809.486328   \n",
              "2022-08-09  23898.615234  22982.000000  23811.484375  23164.318359   \n",
              "2022-08-10  24127.414062  22771.519531  23162.898438  23947.642578   \n",
              "2022-08-11  24822.628906  23900.996094  23948.345703  23957.529297   \n",
              "2022-08-12  24078.126953  23680.998047  23966.562500  23797.154297   \n",
              "\n",
              "                 Volume     Adj Close  \n",
              "Date                                   \n",
              "2022-08-08  28575544847  23809.486328  \n",
              "2022-08-09  23555719219  23164.318359  \n",
              "2022-08-10  32837431722  23947.642578  \n",
              "2022-08-11  37127036580  23957.529297  \n",
              "2022-08-12  31155279872  23797.154297  "
            ],
            "text/html": [
              "\n",
              "  <div id=\"df-40e3f9d3-2f31-4a8d-91e5-e4731fa419bf\">\n",
              "    <div class=\"colab-df-container\">\n",
              "      <div>\n",
              "<style scoped>\n",
              "    .dataframe tbody tr th:only-of-type {\n",
              "        vertical-align: middle;\n",
              "    }\n",
              "\n",
              "    .dataframe tbody tr th {\n",
              "        vertical-align: top;\n",
              "    }\n",
              "\n",
              "    .dataframe thead th {\n",
              "        text-align: right;\n",
              "    }\n",
              "</style>\n",
              "<table border=\"1\" class=\"dataframe\">\n",
              "  <thead>\n",
              "    <tr style=\"text-align: right;\">\n",
              "      <th></th>\n",
              "      <th>High</th>\n",
              "      <th>Low</th>\n",
              "      <th>Open</th>\n",
              "      <th>Close</th>\n",
              "      <th>Volume</th>\n",
              "      <th>Adj Close</th>\n",
              "    </tr>\n",
              "    <tr>\n",
              "      <th>Date</th>\n",
              "      <th></th>\n",
              "      <th></th>\n",
              "      <th></th>\n",
              "      <th></th>\n",
              "      <th></th>\n",
              "      <th></th>\n",
              "    </tr>\n",
              "  </thead>\n",
              "  <tbody>\n",
              "    <tr>\n",
              "      <th>2022-08-08</th>\n",
              "      <td>24203.689453</td>\n",
              "      <td>23176.546875</td>\n",
              "      <td>23179.527344</td>\n",
              "      <td>23809.486328</td>\n",
              "      <td>28575544847</td>\n",
              "      <td>23809.486328</td>\n",
              "    </tr>\n",
              "    <tr>\n",
              "      <th>2022-08-09</th>\n",
              "      <td>23898.615234</td>\n",
              "      <td>22982.000000</td>\n",
              "      <td>23811.484375</td>\n",
              "      <td>23164.318359</td>\n",
              "      <td>23555719219</td>\n",
              "      <td>23164.318359</td>\n",
              "    </tr>\n",
              "    <tr>\n",
              "      <th>2022-08-10</th>\n",
              "      <td>24127.414062</td>\n",
              "      <td>22771.519531</td>\n",
              "      <td>23162.898438</td>\n",
              "      <td>23947.642578</td>\n",
              "      <td>32837431722</td>\n",
              "      <td>23947.642578</td>\n",
              "    </tr>\n",
              "    <tr>\n",
              "      <th>2022-08-11</th>\n",
              "      <td>24822.628906</td>\n",
              "      <td>23900.996094</td>\n",
              "      <td>23948.345703</td>\n",
              "      <td>23957.529297</td>\n",
              "      <td>37127036580</td>\n",
              "      <td>23957.529297</td>\n",
              "    </tr>\n",
              "    <tr>\n",
              "      <th>2022-08-12</th>\n",
              "      <td>24078.126953</td>\n",
              "      <td>23680.998047</td>\n",
              "      <td>23966.562500</td>\n",
              "      <td>23797.154297</td>\n",
              "      <td>31155279872</td>\n",
              "      <td>23797.154297</td>\n",
              "    </tr>\n",
              "  </tbody>\n",
              "</table>\n",
              "</div>\n",
              "      <button class=\"colab-df-convert\" onclick=\"convertToInteractive('df-40e3f9d3-2f31-4a8d-91e5-e4731fa419bf')\"\n",
              "              title=\"Convert this dataframe to an interactive table.\"\n",
              "              style=\"display:none;\">\n",
              "        \n",
              "  <svg xmlns=\"http://www.w3.org/2000/svg\" height=\"24px\"viewBox=\"0 0 24 24\"\n",
              "       width=\"24px\">\n",
              "    <path d=\"M0 0h24v24H0V0z\" fill=\"none\"/>\n",
              "    <path d=\"M18.56 5.44l.94 2.06.94-2.06 2.06-.94-2.06-.94-.94-2.06-.94 2.06-2.06.94zm-11 1L8.5 8.5l.94-2.06 2.06-.94-2.06-.94L8.5 2.5l-.94 2.06-2.06.94zm10 10l.94 2.06.94-2.06 2.06-.94-2.06-.94-.94-2.06-.94 2.06-2.06.94z\"/><path d=\"M17.41 7.96l-1.37-1.37c-.4-.4-.92-.59-1.43-.59-.52 0-1.04.2-1.43.59L10.3 9.45l-7.72 7.72c-.78.78-.78 2.05 0 2.83L4 21.41c.39.39.9.59 1.41.59.51 0 1.02-.2 1.41-.59l7.78-7.78 2.81-2.81c.8-.78.8-2.07 0-2.86zM5.41 20L4 18.59l7.72-7.72 1.47 1.35L5.41 20z\"/>\n",
              "  </svg>\n",
              "      </button>\n",
              "      \n",
              "  <style>\n",
              "    .colab-df-container {\n",
              "      display:flex;\n",
              "      flex-wrap:wrap;\n",
              "      gap: 12px;\n",
              "    }\n",
              "\n",
              "    .colab-df-convert {\n",
              "      background-color: #E8F0FE;\n",
              "      border: none;\n",
              "      border-radius: 50%;\n",
              "      cursor: pointer;\n",
              "      display: none;\n",
              "      fill: #1967D2;\n",
              "      height: 32px;\n",
              "      padding: 0 0 0 0;\n",
              "      width: 32px;\n",
              "    }\n",
              "\n",
              "    .colab-df-convert:hover {\n",
              "      background-color: #E2EBFA;\n",
              "      box-shadow: 0px 1px 2px rgba(60, 64, 67, 0.3), 0px 1px 3px 1px rgba(60, 64, 67, 0.15);\n",
              "      fill: #174EA6;\n",
              "    }\n",
              "\n",
              "    [theme=dark] .colab-df-convert {\n",
              "      background-color: #3B4455;\n",
              "      fill: #D2E3FC;\n",
              "    }\n",
              "\n",
              "    [theme=dark] .colab-df-convert:hover {\n",
              "      background-color: #434B5C;\n",
              "      box-shadow: 0px 1px 3px 1px rgba(0, 0, 0, 0.15);\n",
              "      filter: drop-shadow(0px 1px 2px rgba(0, 0, 0, 0.3));\n",
              "      fill: #FFFFFF;\n",
              "    }\n",
              "  </style>\n",
              "\n",
              "      <script>\n",
              "        const buttonEl =\n",
              "          document.querySelector('#df-40e3f9d3-2f31-4a8d-91e5-e4731fa419bf button.colab-df-convert');\n",
              "        buttonEl.style.display =\n",
              "          google.colab.kernel.accessAllowed ? 'block' : 'none';\n",
              "\n",
              "        async function convertToInteractive(key) {\n",
              "          const element = document.querySelector('#df-40e3f9d3-2f31-4a8d-91e5-e4731fa419bf');\n",
              "          const dataTable =\n",
              "            await google.colab.kernel.invokeFunction('convertToInteractive',\n",
              "                                                     [key], {});\n",
              "          if (!dataTable) return;\n",
              "\n",
              "          const docLinkHtml = 'Like what you see? Visit the ' +\n",
              "            '<a target=\"_blank\" href=https://colab.research.google.com/notebooks/data_table.ipynb>data table notebook</a>'\n",
              "            + ' to learn more about interactive tables.';\n",
              "          element.innerHTML = '';\n",
              "          dataTable['output_type'] = 'display_data';\n",
              "          await google.colab.output.renderOutput(dataTable, element);\n",
              "          const docLink = document.createElement('div');\n",
              "          docLink.innerHTML = docLinkHtml;\n",
              "          element.appendChild(docLink);\n",
              "        }\n",
              "      </script>\n",
              "    </div>\n",
              "  </div>\n",
              "  "
            ]
          },
          "metadata": {},
          "execution_count": 5
        }
      ]
    },
    {
      "cell_type": "code",
      "source": [
        "import matplotlib\n",
        "from matplotlib.pyplot import*\n",
        "plot(BTC[\"Close\"])\n",
        "show()"
      ],
      "metadata": {
        "colab": {
          "base_uri": "https://localhost:8080/",
          "height": 267
        },
        "id": "sbLrMoeMjAQv",
        "outputId": "7d45914a-afab-4742-a872-45e0f49fef77"
      },
      "execution_count": 6,
      "outputs": [
        {
          "output_type": "display_data",
          "data": {
            "text/plain": [
              "<Figure size 432x288 with 1 Axes>"
            ],
            "image/png": "[encoded data removed]"
          },
          "metadata": {
            "needs_background": "light"
          }
        }
      ]
    },
    {
      "cell_type": "code",
      "source": [
        "BTC.info()"
      ],
      "metadata": {
        "id": "xT3SmdgvjTXn",
        "outputId": "57735f02-269e-4df3-8a51-79703cb44976",
        "colab": {
          "base_uri": "https://localhost:8080/"
        }
      },
      "execution_count": 7,
      "outputs": [
        {
          "output_type": "stream",
          "name": "stdout",
          "text": [
            "<class 'pandas.core.frame.DataFrame'>\n",
            "DatetimeIndex: 2050 entries, 2017-01-01 to 2022-08-12\n",
            "Data columns (total 6 columns):\n",
            " #   Column     Non-Null Count  Dtype  \n",
            "---  ------     --------------  -----  \n",
            " 0   High       2050 non-null   float64\n",
            " 1   Low        2050 non-null   float64\n",
            " 2   Open       2050 non-null   float64\n",
            " 3   Close      2050 non-null   float64\n",
            " 4   Volume     2050 non-null   int64  \n",
            " 5   Adj Close  2050 non-null   float64\n",
            "dtypes: float64(5), int64(1)\n",
            "memory usage: 112.1 KB\n"
          ]
        }
      ]
    },
    {
      "cell_type": "code",
      "source": [
        "BTC[\"R\"] = (BTC[\"Close\"] / BTC[\"Close\"].shift(1)) - 1\n",
        "print(BTC[\"R\"])"
      ],
      "metadata": {
        "colab": {
          "base_uri": "https://localhost:8080/"
        },
        "id": "XA_0PEHprTC0",
        "outputId": "21ac6bb5-036d-4950-dc6b-cc151272f7b9"
      },
      "execution_count": 8,
      "outputs": [
        {
          "output_type": "stream",
          "name": "stdout",
          "text": [
            "Date\n",
            "2017-01-01         NaN\n",
            "2017-01-02    0.023464\n",
            "2017-01-03    0.021620\n",
            "2017-01-04    0.106233\n",
            "2017-01-05   -0.122410\n",
            "                ...   \n",
            "2022-08-08    0.027339\n",
            "2022-08-09   -0.027097\n",
            "2022-08-10    0.033816\n",
            "2022-08-11    0.000413\n",
            "2022-08-12   -0.006694\n",
            "Name: R, Length: 2050, dtype: float64\n"
          ]
        }
      ]
    },
    {
      "cell_type": "code",
      "source": [
        "BTC[\"r\"] = np.log(BTC['Adj Close']) - np.log(BTC['Adj Close'].shift(1))\n",
        "BTCR = BTC[['R','r']].copy()"
      ],
      "metadata": {
        "id": "bdoVMYmir05e"
      },
      "execution_count": 9,
      "outputs": []
    },
    {
      "cell_type": "code",
      "source": [
        "BTC= BTC.dropna()"
      ],
      "metadata": {
        "id": "7jngBW6BsOqF"
      },
      "execution_count": 10,
      "outputs": []
    },
    {
      "cell_type": "code",
      "source": [
        "sumret = BTC[\"R\"].describe()\n",
        "sumret"
      ],
      "metadata": {
        "colab": {
          "base_uri": "https://localhost:8080/"
        },
        "id": "kd6zZ5EQs_yA",
        "outputId": "78233cc2-e795-4cbb-d5d8-aae2f9cd69a7"
      },
      "execution_count": 11,
      "outputs": [
        {
          "output_type": "execute_result",
          "data": {
            "text/plain": [
              "count    2049.000000\n",
              "mean        0.002411\n",
              "std         0.041359\n",
              "min        -0.371695\n",
              "25%        -0.015882\n",
              "50%         0.002216\n",
              "75%         0.020916\n",
              "max         0.252472\n",
              "Name: R, dtype: float64"
            ]
          },
          "metadata": {},
          "execution_count": 11
        }
      ]
    },
    {
      "cell_type": "code",
      "source": [
        "BTC[BTC[\"R\"]<-0.15]"
      ],
      "metadata": {
        "colab": {
          "base_uri": "https://localhost:8080/",
          "height": 368
        },
        "id": "cJsGOXsztNq2",
        "outputId": "ab611678-3665-464f-b51a-d9e6c4007cfc"
      },
      "execution_count": 12,
      "outputs": [
        {
          "output_type": "execute_result",
          "data": {
            "text/plain": [
              "                    High           Low          Open         Close  \\\n",
              "Date                                                                 \n",
              "2017-09-14   3920.600098   3153.860107   3875.370117   3154.949951   \n",
              "2018-01-16  13843.099609  10194.900391  13836.099609  11490.500000   \n",
              "2018-02-05   8364.839844   6756.680176   8270.540039   6955.270020   \n",
              "2020-03-12   7929.116211   4860.354004   7913.616211   4970.788086   \n",
              "2022-06-13  26795.589844  22141.257812  26737.578125  22487.388672   \n",
              "\n",
              "                 Volume     Adj Close         R         r  \n",
              "Date                                                       \n",
              "2017-09-14   2716310016   3154.949951 -0.187411 -0.207530  \n",
              "2018-01-16  18853799936  11490.500000 -0.168548 -0.184582  \n",
              "2018-02-05   9285289984   6955.270020 -0.159688 -0.173982  \n",
              "2020-03-12  53980357243   4970.788086 -0.371695 -0.464730  \n",
              "2022-06-13  68204556440  22487.388672 -0.159747 -0.174053  "
            ],
            "text/html": [
              "\n",
              "  <div id=\"df-d58c830e-f05c-4fcb-b593-b76b9c509963\">\n",
              "    <div class=\"colab-df-container\">\n",
              "      <div>\n",
              "<style scoped>\n",
              "    .dataframe tbody tr th:only-of-type {\n",
              "        vertical-align: middle;\n",
              "    }\n",
              "\n",
              "    .dataframe tbody tr th {\n",
              "        vertical-align: top;\n",
              "    }\n",
              "\n",
              "    .dataframe thead th {\n",
              "        text-align: right;\n",
              "    }\n",
              "</style>\n",
              "<table border=\"1\" class=\"dataframe\">\n",
              "  <thead>\n",
              "    <tr style=\"text-align: right;\">\n",
              "      <th></th>\n",
              "      <th>High</th>\n",
              "      <th>Low</th>\n",
              "      <th>Open</th>\n",
              "      <th>Close</th>\n",
              "      <th>Volume</th>\n",
              "      <th>Adj Close</th>\n",
              "      <th>R</th>\n",
              "      <th>r</th>\n",
              "    </tr>\n",
              "    <tr>\n",
              "      <th>Date</th>\n",
              "      <th></th>\n",
              "      <th></th>\n",
              "      <th></th>\n",
              "      <th></th>\n",
              "      <th></th>\n",
              "      <th></th>\n",
              "      <th></th>\n",
              "      <th></th>\n",
              "    </tr>\n",
              "  </thead>\n",
              "  <tbody>\n",
              "    <tr>\n",
              "      <th>2017-09-14</th>\n",
              "      <td>3920.600098</td>\n",
              "      <td>3153.860107</td>\n",
              "      <td>3875.370117</td>\n",
              "      <td>3154.949951</td>\n",
              "      <td>2716310016</td>\n",
              "      <td>3154.949951</td>\n",
              "      <td>-0.187411</td>\n",
              "      <td>-0.207530</td>\n",
              "    </tr>\n",
              "    <tr>\n",
              "      <th>2018-01-16</th>\n",
              "      <td>13843.099609</td>\n",
              "      <td>10194.900391</td>\n",
              "      <td>13836.099609</td>\n",
              "      <td>11490.500000</td>\n",
              "      <td>18853799936</td>\n",
              "      <td>11490.500000</td>\n",
              "      <td>-0.168548</td>\n",
              "      <td>-0.184582</td>\n",
              "    </tr>\n",
              "    <tr>\n",
              "      <th>2018-02-05</th>\n",
              "      <td>8364.839844</td>\n",
              "      <td>6756.680176</td>\n",
              "      <td>8270.540039</td>\n",
              "      <td>6955.270020</td>\n",
              "      <td>9285289984</td>\n",
              "      <td>6955.270020</td>\n",
              "      <td>-0.159688</td>\n",
              "      <td>-0.173982</td>\n",
              "    </tr>\n",
              "    <tr>\n",
              "      <th>2020-03-12</th>\n",
              "      <td>7929.116211</td>\n",
              "      <td>4860.354004</td>\n",
              "      <td>7913.616211</td>\n",
              "      <td>4970.788086</td>\n",
              "      <td>53980357243</td>\n",
              "      <td>4970.788086</td>\n",
              "      <td>-0.371695</td>\n",
              "      <td>-0.464730</td>\n",
              "    </tr>\n",
              "    <tr>\n",
              "      <th>2022-06-13</th>\n",
              "      <td>26795.589844</td>\n",
              "      <td>22141.257812</td>\n",
              "      <td>26737.578125</td>\n",
              "      <td>22487.388672</td>\n",
              "      <td>68204556440</td>\n",
              "      <td>22487.388672</td>\n",
              "      <td>-0.159747</td>\n",
              "      <td>-0.174053</td>\n",
              "    </tr>\n",
              "  </tbody>\n",
              "</table>\n",
              "</div>\n",
              "      <button class=\"colab-df-convert\" onclick=\"convertToInteractive('df-d58c830e-f05c-4fcb-b593-b76b9c509963')\"\n",
              "              title=\"Convert this dataframe to an interactive table.\"\n",
              "              style=\"display:none;\">\n",
              "        \n",
              "  <svg xmlns=\"http://www.w3.org/2000/svg\" height=\"24px\"viewBox=\"0 0 24 24\"\n",
              "       width=\"24px\">\n",
              "    <path d=\"M0 0h24v24H0V0z\" fill=\"none\"/>\n",
              "    <path d=\"M18.56 5.44l.94 2.06.94-2.06 2.06-.94-2.06-.94-.94-2.06-.94 2.06-2.06.94zm-11 1L8.5 8.5l.94-2.06 2.06-.94-2.06-.94L8.5 2.5l-.94 2.06-2.06.94zm10 10l.94 2.06.94-2.06 2.06-.94-2.06-.94-.94-2.06-.94 2.06-2.06.94z\"/><path d=\"M17.41 7.96l-1.37-1.37c-.4-.4-.92-.59-1.43-.59-.52 0-1.04.2-1.43.59L10.3 9.45l-7.72 7.72c-.78.78-.78 2.05 0 2.83L4 21.41c.39.39.9.59 1.41.59.51 0 1.02-.2 1.41-.59l7.78-7.78 2.81-2.81c.8-.78.8-2.07 0-2.86zM5.41 20L4 18.59l7.72-7.72 1.47 1.35L5.41 20z\"/>\n",
              "  </svg>\n",
              "      </button>\n",
              "      \n",
              "  <style>\n",
              "    .colab-df-container {\n",
              "      display:flex;\n",
              "      flex-wrap:wrap;\n",
              "      gap: 12px;\n",
              "    }\n",
              "\n",
              "    .colab-df-convert {\n",
              "      background-color: #E8F0FE;\n",
              "      border: none;\n",
              "      border-radius: 50%;\n",
              "      cursor: pointer;\n",
              "      display: none;\n",
              "      fill: #1967D2;\n",
              "      height: 32px;\n",
              "      padding: 0 0 0 0;\n",
              "      width: 32px;\n",
              "    }\n",
              "\n",
              "    .colab-df-convert:hover {\n",
              "      background-color: #E2EBFA;\n",
              "      box-shadow: 0px 1px 2px rgba(60, 64, 67, 0.3), 0px 1px 3px 1px rgba(60, 64, 67, 0.15);\n",
              "      fill: #174EA6;\n",
              "    }\n",
              "\n",
              "    [theme=dark] .colab-df-convert {\n",
              "      background-color: #3B4455;\n",
              "      fill: #D2E3FC;\n",
              "    }\n",
              "\n",
              "    [theme=dark] .colab-df-convert:hover {\n",
              "      background-color: #434B5C;\n",
              "      box-shadow: 0px 1px 3px 1px rgba(0, 0, 0, 0.15);\n",
              "      filter: drop-shadow(0px 1px 2px rgba(0, 0, 0, 0.3));\n",
              "      fill: #FFFFFF;\n",
              "    }\n",
              "  </style>\n",
              "\n",
              "      <script>\n",
              "        const buttonEl =\n",
              "          document.querySelector('#df-d58c830e-f05c-4fcb-b593-b76b9c509963 button.colab-df-convert');\n",
              "        buttonEl.style.display =\n",
              "          google.colab.kernel.accessAllowed ? 'block' : 'none';\n",
              "\n",
              "        async function convertToInteractive(key) {\n",
              "          const element = document.querySelector('#df-d58c830e-f05c-4fcb-b593-b76b9c509963');\n",
              "          const dataTable =\n",
              "            await google.colab.kernel.invokeFunction('convertToInteractive',\n",
              "                                                     [key], {});\n",
              "          if (!dataTable) return;\n",
              "\n",
              "          const docLinkHtml = 'Like what you see? Visit the ' +\n",
              "            '<a target=\"_blank\" href=https://colab.research.google.com/notebooks/data_table.ipynb>data table notebook</a>'\n",
              "            + ' to learn more about interactive tables.';\n",
              "          element.innerHTML = '';\n",
              "          dataTable['output_type'] = 'display_data';\n",
              "          await google.colab.output.renderOutput(dataTable, element);\n",
              "          const docLink = document.createElement('div');\n",
              "          docLink.innerHTML = docLinkHtml;\n",
              "          element.appendChild(docLink);\n",
              "        }\n",
              "      </script>\n",
              "    </div>\n",
              "  </div>\n",
              "  "
            ]
          },
          "metadata": {},
          "execution_count": 12
        }
      ]
    },
    {
      "cell_type": "code",
      "source": [
        "BTC[BTC[\"R\"]>0.15].sort_values(by=['R'], ascending=False)"
      ],
      "metadata": {
        "colab": {
          "base_uri": "https://localhost:8080/",
          "height": 563
        },
        "id": "0nAfydltGnCv",
        "outputId": "3797a93d-1e27-4c8c-daf5-0268c398b24a"
      },
      "execution_count": 13,
      "outputs": [
        {
          "output_type": "execute_result",
          "data": {
            "text/plain": [
              "                    High           Low          Open         Close  \\\n",
              "Date                                                                 \n",
              "2017-12-07  17899.699219  14057.299805  14266.099609  17899.699219   \n",
              "2017-07-20   2900.699951   2269.889893   2269.889893   2817.600098   \n",
              "2017-12-06  14369.099609  11923.400391  11923.400391  14291.500000   \n",
              "2021-02-08  46203.929688  38076.324219  38886.828125  46196.464844   \n",
              "2020-03-19   6329.735840   5236.968750   5245.416504   6191.192871   \n",
              "2019-04-02   4905.954590   4155.316895   4156.919434   4879.877930   \n",
              "2019-10-25   8691.540039   7479.984375   7490.703125   8660.700195   \n",
              "2017-07-17   2230.489990   1932.619995   1932.619995   2228.409912   \n",
              "2017-09-15   3733.449951   2946.620117   3166.300049   3637.520020   \n",
              "\n",
              "                  Volume     Adj Close         R         r  \n",
              "Date                                                        \n",
              "2017-12-07   17950699520  17899.699219  0.252472  0.225119  \n",
              "2017-07-20    2249260032   2817.600098  0.239361  0.214596  \n",
              "2017-12-06   12656300032  14291.500000  0.199283  0.181724  \n",
              "2021-02-08  101467222687  46196.464844  0.187465  0.171821  \n",
              "2020-03-19   51000731797   6191.192871  0.181878  0.167104  \n",
              "2019-04-02   21315047816   4879.877930  0.173560  0.160042  \n",
              "2019-10-25   28705065488   8660.700195  0.155763  0.144761  \n",
              "2017-07-17    1201760000   2228.409912  0.154724  0.143862  \n",
              "2017-09-15    4148069888   3637.520020  0.152956  0.142330  "
            ],
            "text/html": [
              "\n",
              "  <div id=\"df-7d99fae0-04a8-49f0-ab32-8d52e7ac7075\">\n",
              "    <div class=\"colab-df-container\">\n",
              "      <div>\n",
              "<style scoped>\n",
              "    .dataframe tbody tr th:only-of-type {\n",
              "        vertical-align: middle;\n",
              "    }\n",
              "\n",
              "    .dataframe tbody tr th {\n",
              "        vertical-align: top;\n",
              "    }\n",
              "\n",
              "    .dataframe thead th {\n",
              "        text-align: right;\n",
              "    }\n",
              "</style>\n",
              "<table border=\"1\" class=\"dataframe\">\n",
              "  <thead>\n",
              "    <tr style=\"text-align: right;\">\n",
              "      <th></th>\n",
              "      <th>High</th>\n",
              "      <th>Low</th>\n",
              "      <th>Open</th>\n",
              "      <th>Close</th>\n",
              "      <th>Volume</th>\n",
              "      <th>Adj Close</th>\n",
              "      <th>R</th>\n",
              "      <th>r</th>\n",
              "    </tr>\n",
              "    <tr>\n",
              "      <th>Date</th>\n",
              "      <th></th>\n",
              "      <th></th>\n",
              "      <th></th>\n",
              "      <th></th>\n",
              "      <th></th>\n",
              "      <th></th>\n",
              "      <th></th>\n",
              "      <th></th>\n",
              "    </tr>\n",
              "  </thead>\n",
              "  <tbody>\n",
              "    <tr>\n",
              "      <th>2017-12-07</th>\n",
              "      <td>17899.699219</td>\n",
              "      <td>14057.299805</td>\n",
              "      <td>14266.099609</td>\n",
              "      <td>17899.699219</td>\n",
              "      <td>17950699520</td>\n",
              "      <td>17899.699219</td>\n",
              "      <td>0.252472</td>\n",
              "      <td>0.225119</td>\n",
              "    </tr>\n",
              "    <tr>\n",
              "      <th>2017-07-20</th>\n",
              "      <td>2900.699951</td>\n",
              "      <td>2269.889893</td>\n",
              "      <td>2269.889893</td>\n",
              "      <td>2817.600098</td>\n",
              "      <td>2249260032</td>\n",
              "      <td>2817.600098</td>\n",
              "      <td>0.239361</td>\n",
              "      <td>0.214596</td>\n",
              "    </tr>\n",
              "    <tr>\n",
              "      <th>2017-12-06</th>\n",
              "      <td>14369.099609</td>\n",
              "      <td>11923.400391</td>\n",
              "      <td>11923.400391</td>\n",
              "      <td>14291.500000</td>\n",
              "      <td>12656300032</td>\n",
              "      <td>14291.500000</td>\n",
              "      <td>0.199283</td>\n",
              "      <td>0.181724</td>\n",
              "    </tr>\n",
              "    <tr>\n",
              "      <th>2021-02-08</th>\n",
              "      <td>46203.929688</td>\n",
              "      <td>38076.324219</td>\n",
              "      <td>38886.828125</td>\n",
              "      <td>46196.464844</td>\n",
              "      <td>101467222687</td>\n",
              "      <td>46196.464844</td>\n",
              "      <td>0.187465</td>\n",
              "      <td>0.171821</td>\n",
              "    </tr>\n",
              "    <tr>\n",
              "      <th>2020-03-19</th>\n",
              "      <td>6329.735840</td>\n",
              "      <td>5236.968750</td>\n",
              "      <td>5245.416504</td>\n",
              "      <td>6191.192871</td>\n",
              "      <td>51000731797</td>\n",
              "      <td>6191.192871</td>\n",
              "      <td>0.181878</td>\n",
              "      <td>0.167104</td>\n",
              "    </tr>\n",
              "    <tr>\n",
              "      <th>2019-04-02</th>\n",
              "      <td>4905.954590</td>\n",
              "      <td>4155.316895</td>\n",
              "      <td>4156.919434</td>\n",
              "      <td>4879.877930</td>\n",
              "      <td>21315047816</td>\n",
              "      <td>4879.877930</td>\n",
              "      <td>0.173560</td>\n",
              "      <td>0.160042</td>\n",
              "    </tr>\n",
              "    <tr>\n",
              "      <th>2019-10-25</th>\n",
              "      <td>8691.540039</td>\n",
              "      <td>7479.984375</td>\n",
              "      <td>7490.703125</td>\n",
              "      <td>8660.700195</td>\n",
              "      <td>28705065488</td>\n",
              "      <td>8660.700195</td>\n",
              "      <td>0.155763</td>\n",
              "      <td>0.144761</td>\n",
              "    </tr>\n",
              "    <tr>\n",
              "      <th>2017-07-17</th>\n",
              "      <td>2230.489990</td>\n",
              "      <td>1932.619995</td>\n",
              "      <td>1932.619995</td>\n",
              "      <td>2228.409912</td>\n",
              "      <td>1201760000</td>\n",
              "      <td>2228.409912</td>\n",
              "      <td>0.154724</td>\n",
              "      <td>0.143862</td>\n",
              "    </tr>\n",
              "    <tr>\n",
              "      <th>2017-09-15</th>\n",
              "      <td>3733.449951</td>\n",
              "      <td>2946.620117</td>\n",
              "      <td>3166.300049</td>\n",
              "      <td>3637.520020</td>\n",
              "      <td>4148069888</td>\n",
              "      <td>3637.520020</td>\n",
              "      <td>0.152956</td>\n",
              "      <td>0.142330</td>\n",
              "    </tr>\n",
              "  </tbody>\n",
              "</table>\n",
              "</div>\n",
              "      <button class=\"colab-df-convert\" onclick=\"convertToInteractive('df-7d99fae0-04a8-49f0-ab32-8d52e7ac7075')\"\n",
              "              title=\"Convert this dataframe to an interactive table.\"\n",
              "              style=\"display:none;\">\n",
              "        \n",
              "  <svg xmlns=\"http://www.w3.org/2000/svg\" height=\"24px\"viewBox=\"0 0 24 24\"\n",
              "       width=\"24px\">\n",
              "    <path d=\"M0 0h24v24H0V0z\" fill=\"none\"/>\n",
              "    <path d=\"M18.56 5.44l.94 2.06.94-2.06 2.06-.94-2.06-.94-.94-2.06-.94 2.06-2.06.94zm-11 1L8.5 8.5l.94-2.06 2.06-.94-2.06-.94L8.5 2.5l-.94 2.06-2.06.94zm10 10l.94 2.06.94-2.06 2.06-.94-2.06-.94-.94-2.06-.94 2.06-2.06.94z\"/><path d=\"M17.41 7.96l-1.37-1.37c-.4-.4-.92-.59-1.43-.59-.52 0-1.04.2-1.43.59L10.3 9.45l-7.72 7.72c-.78.78-.78 2.05 0 2.83L4 21.41c.39.39.9.59 1.41.59.51 0 1.02-.2 1.41-.59l7.78-7.78 2.81-2.81c.8-.78.8-2.07 0-2.86zM5.41 20L4 18.59l7.72-7.72 1.47 1.35L5.41 20z\"/>\n",
              "  </svg>\n",
              "      </button>\n",
              "      \n",
              "  <style>\n",
              "    .colab-df-container {\n",
              "      display:flex;\n",
              "      flex-wrap:wrap;\n",
              "      gap: 12px;\n",
              "    }\n",
              "\n",
              "    .colab-df-convert {\n",
              "      background-color: #E8F0FE;\n",
              "      border: none;\n",
              "      border-radius: 50%;\n",
              "      cursor: pointer;\n",
              "      display: none;\n",
              "      fill: #1967D2;\n",
              "      height: 32px;\n",
              "      padding: 0 0 0 0;\n",
              "      width: 32px;\n",
              "    }\n",
              "\n",
              "    .colab-df-convert:hover {\n",
              "      background-color: #E2EBFA;\n",
              "      box-shadow: 0px 1px 2px rgba(60, 64, 67, 0.3), 0px 1px 3px 1px rgba(60, 64, 67, 0.15);\n",
              "      fill: #174EA6;\n",
              "    }\n",
              "\n",
              "    [theme=dark] .colab-df-convert {\n",
              "      background-color: #3B4455;\n",
              "      fill: #D2E3FC;\n",
              "    }\n",
              "\n",
              "    [theme=dark] .colab-df-convert:hover {\n",
              "      background-color: #434B5C;\n",
              "      box-shadow: 0px 1px 3px 1px rgba(0, 0, 0, 0.15);\n",
              "      filter: drop-shadow(0px 1px 2px rgba(0, 0, 0, 0.3));\n",
              "      fill: #FFFFFF;\n",
              "    }\n",
              "  </style>\n",
              "\n",
              "      <script>\n",
              "        const buttonEl =\n",
              "          document.querySelector('#df-7d99fae0-04a8-49f0-ab32-8d52e7ac7075 button.colab-df-convert');\n",
              "        buttonEl.style.display =\n",
              "          google.colab.kernel.accessAllowed ? 'block' : 'none';\n",
              "\n",
              "        async function convertToInteractive(key) {\n",
              "          const element = document.querySelector('#df-7d99fae0-04a8-49f0-ab32-8d52e7ac7075');\n",
              "          const dataTable =\n",
              "            await google.colab.kernel.invokeFunction('convertToInteractive',\n",
              "                                                     [key], {});\n",
              "          if (!dataTable) return;\n",
              "\n",
              "          const docLinkHtml = 'Like what you see? Visit the ' +\n",
              "            '<a target=\"_blank\" href=https://colab.research.google.com/notebooks/data_table.ipynb>data table notebook</a>'\n",
              "            + ' to learn more about interactive tables.';\n",
              "          element.innerHTML = '';\n",
              "          dataTable['output_type'] = 'display_data';\n",
              "          await google.colab.output.renderOutput(dataTable, element);\n",
              "          const docLink = document.createElement('div');\n",
              "          docLink.innerHTML = docLinkHtml;\n",
              "          element.appendChild(docLink);\n",
              "        }\n",
              "      </script>\n",
              "    </div>\n",
              "  </div>\n",
              "  "
            ]
          },
          "metadata": {},
          "execution_count": 13
        }
      ]
    },
    {
      "cell_type": "code",
      "source": [
        "print(\"The daily average return of Bitcoin is \", BTC[\"r\"].mean())\n",
        "print(\"The daily variance of Bitcoin is \", BTC[\"r\"].var())\n",
        "print(\"The daily standard deviation (volatility) of Bitcoin return is \", BTC[\"r\"].std())\n",
        "print(\"The daily median return of Bitcoin is \",BTC[\"r\"].median())"
      ],
      "metadata": {
        "colab": {
          "base_uri": "https://localhost:8080/"
        },
        "id": "ntSRE2WOJj_P",
        "outputId": "0e9147d8-f5ea-4ff3-9f24-0c55f71c5295"
      },
      "execution_count": 14,
      "outputs": [
        {
          "output_type": "stream",
          "name": "stdout",
          "text": [
            "The daily average return of Bitcoin is  0.0015477024882010356\n",
            "The daily variance of Bitcoin is  0.0017364345895356829\n",
            "The daily standard deviation (volatility) of Bitcoin return is  0.0416705482269634\n",
            "The daily median return of Bitcoin is  0.0022137248439948465\n"
          ]
        }
      ]
    },
    {
      "cell_type": "markdown",
      "source": [
        "#Challenge:Histogram"
      ],
      "metadata": {
        "id": "xZaGGQ1DK4zq"
      }
    },
    {
      "cell_type": "code",
      "source": [
        "r_bitcoin = pd.DataFrame(BTC[[\"R\"]])\n",
        "hist=r_bitcoin.plot.hist(bins=12,alpha=0.5,title=\"Histogram of daily Bitcoin Returns\")"
      ],
      "metadata": {
        "colab": {
          "base_uri": "https://localhost:8080/",
          "height": 281
        },
        "id": "sVvYKjRAJmic",
        "outputId": "4682f875-f5cc-4e5c-da06-4dce566c2e5a"
      },
      "execution_count": 15,
      "outputs": [
        {
          "output_type": "display_data",
          "data": {
            "text/plain": [
              "<Figure size 432x288 with 1 Axes>"
            ],
            "image/png": "[encoded data removed]"
          },
          "metadata": {
            "needs_background": "light"
          }
        }
      ]
    },
    {
      "cell_type": "markdown",
      "source": [
        "# 5.2 CHALLENGE: Simulating the normal distribution"
      ],
      "metadata": {
        "id": "PB7saDxhRyfc"
      }
    },
    {
      "cell_type": "markdown",
      "source": [
        "Use the mean and standard deviation of the historical cc returns of Bitcoin and simulate the same # of returns as the days we dowloaded in the BTC dataframe."
      ],
      "metadata": {
        "id": "6pbMqPRFR2ah"
      }
    },
    {
      "cell_type": "code",
      "source": [
        "from matplotlib import pyplot"
      ],
      "metadata": {
        "id": "vh_uUE7PRv_7"
      },
      "execution_count": 16,
      "outputs": []
    },
    {
      "cell_type": "code",
      "source": [
        "ccret= r_bitcoin.to_numpy()"
      ],
      "metadata": {
        "id": "Ib77KeMxTS6b"
      },
      "execution_count": 17,
      "outputs": []
    },
    {
      "cell_type": "code",
      "source": [
        "x=np.random.normal(loc=BTC[\"r\"].mean(), scale=BTC[\"r\"].std(), size=BTC[\"R\"].count())\n",
        "y=ccret\n",
        "bins=12\n",
        "\n",
        "pyplot.hist(x, bins, alpha=0.5, label=\"simulated\")\n",
        "pyplot.hist(y, bins, alpha=0.5, label=\"real\")\n",
        "pyplot.legend(loc='upper right')\n",
        "pyplot.title(label='Histogram Challenge-5.2')\n",
        "pyplot.show()"
      ],
      "metadata": {
        "colab": {
          "base_uri": "https://localhost:8080/",
          "height": 281
        },
        "id": "aZSnPARNUbSa",
        "outputId": "3507b632-6cb9-42c0-8929-aa8e71548396"
      },
      "execution_count": 23,
      "outputs": [
        {
          "output_type": "display_data",
          "data": {
            "text/plain": [
              "<Figure size 432x288 with 1 Axes>"
            ],
            "image/png": "[encoded data removed]"
          },
          "metadata": {
            "needs_background": "light"
          }
        }
      ]
    },
    {
      "cell_type": "markdown",
      "source": [
        "*DO YOU SEE A DIFFERENCE BEWEEN THE REAL VS THE SIMULATED RETURNS? BRIEFLY EXPLAIN.*"
      ],
      "metadata": {
        "id": "dni4m8c2YRFf"
      }
    },
    {
      "cell_type": "markdown",
      "source": [
        "Podemos notar una diferencia clara entre los valores, reales y los simulados. Por un lado podemos observar que los valores reales realmente se presentan a una escala mayor, llegando revasar el valor 1000 en en el eje y del histograma, mientras que por el otro lado, podemos observar los valores simulados apenas llegan a tener un valor maximo de poco mas de 400. Considero que es normal, ya que trabajamos con valores simulados que aunque no sean exactos o iguales a los resultados reales, podemos ver una similitud entre ambas gráficas, es decir, el comportamiento es similar ya que es una aproximacion del resultado real y el resultado simulado."
      ],
      "metadata": {
        "id": "oEMTIwUyYXBK"
      }
    },
    {
      "cell_type": "code",
      "source": [
        ""
      ],
      "metadata": {
        "id": "AQb1McKKYWGt"
      },
      "execution_count": null,
      "outputs": []
    }
  ]
}